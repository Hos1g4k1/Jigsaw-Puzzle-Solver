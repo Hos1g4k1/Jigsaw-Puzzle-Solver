{
  "nbformat": 4,
  "nbformat_minor": 0,
  "metadata": {
    "colab": {
      "name": "utils.ipynb",
      "provenance": []
    },
    "kernelspec": {
      "name": "python3",
      "display_name": "Python 3"
    }
  },
  "cells": [
    {
      "cell_type": "code",
      "metadata": {
        "id": "ubxYCznBmTe-"
      },
      "source": [
        "from skimage import io\n",
        "from skimage import transform\n",
        "import numpy as np\n",
        "import random\n",
        "import math\n",
        "\n",
        "# Funcion which creates array of puzzle pieces\n",
        "# From a given picture\n",
        "\n",
        "def from_image_to_pieces(image_path, n_rows, n_cols):\n",
        "  \n",
        "  image = io.imread(image_path)\n",
        "\n",
        "  size = image.shape\n",
        "  size = min(size[0], size[1])\n",
        "  \n",
        "  image = image[0:size, 0:size]\n",
        "\n",
        "  step = math.floor(size / n_rows)\n",
        "  \n",
        "  pieces = []\n",
        "  index = 0\n",
        "\n",
        "  for i in range(n_rows):\n",
        "    for j in range(n_cols):\n",
        "      pieces.append((np.array(image[i*step: (i+1)*step, j*step : (j+1)*step]), index))\n",
        "      index += 1\n",
        "\n",
        "  return pieces, step\n",
        "\n",
        "#pieces, step = from_image_to_pieces(\"lion.jpg\", 10, 10)"
      ],
      "execution_count": 9,
      "outputs": []
    },
    {
      "cell_type": "code",
      "metadata": {
        "id": "vs_fhCSoErbx"
      },
      "source": [
        "def shuffle(pieces):\n",
        "  random.shuffle(pieces)\n",
        "\n",
        "  result = []\n",
        "\n",
        "  for x in pieces:\n",
        "    image = x[0]\n",
        "    index = x[1]\n",
        "\n",
        "    i = random.randint(0, 4)\n",
        "    x = transform.rotate(image, i*90)\n",
        "    result.append((x, index))\n",
        "\n",
        "  return result\n",
        "\n",
        "#pieces = shuffle(pieces)"
      ],
      "execution_count": 10,
      "outputs": []
    },
    {
      "cell_type": "code",
      "metadata": {
        "id": "QG4Nvp_E1opp"
      },
      "source": [
        "def make_image(pieces, step, n_rows, n_cols):\n",
        "\n",
        "  image = np.array([])\n",
        "  image = np.resize(image, (n_rows*step, n_cols*step, 3))\n",
        "\n",
        "  for i in range(n_rows):\n",
        "    for j in range(n_cols):\n",
        "      image[i*step : (i+1)*step, j*step : (j+1)*step] = (pieces[i*n_cols + j])[0]\n",
        "    \n",
        "  #io.imshow(image)\n",
        "  #io.imsave(\"slika.jpg\", image)\n",
        "\n",
        "  return image\n",
        "  \n",
        "#make_image(pieces, 36, 10, 10)"
      ],
      "execution_count": 11,
      "outputs": []
    },
    {
      "cell_type": "code",
      "metadata": {
        "id": "mFna9cNEVrya"
      },
      "source": [
        "class GeneticAlgorithm:\n",
        "\n",
        "  def __init__(self, image_path, n_rows):\n",
        "\n",
        "    self.path = image_path\n",
        "    self.n_rows = n_rows\n",
        "    self.population_size = 1000\n",
        "    self.max_iteration = 1000\n",
        "    self.torurnament_size = 10\n",
        "    self.mutation_rate = 0.1\n",
        "    self.selection_type = 'tournament'\n",
        "\n",
        "  def init_population(self):\n",
        "\n",
        "    population = []\n",
        "\n",
        "    init_puzzle, step = from_image_to_pieces(self.path, n_rows, n_rows)\n",
        "\n",
        "    for i in range(self.population_size):\n",
        "      image = shuffle(init_image)\n",
        "      population.append(image)\n",
        "\n",
        "\n",
        "\n",
        "def init_pop(population_size):\n",
        "  pop = []\n",
        "\n",
        "  image_path = input(\"Unesite putanju do slike: \")\n",
        "\n",
        "  init_puzzle, step = from_image_to_pieces(image_path, 10, 10)\n",
        "\n",
        "  for i in range(population_size):\n",
        "    image = shuffle(init_puzzle)\n",
        "    pop.append(image)\n",
        "    #x = make_image(image, step, 10, 10)\n",
        "    #io.imsave(f\"Slika_{i}.jpg\", x)\n",
        "\n",
        "  return pop"
      ],
      "execution_count": 12,
      "outputs": []
    },
    {
      "cell_type": "code",
      "metadata": {
        "id": "aUbgMDXpap5Y"
      },
      "source": [
        "def selection(population, selection_size, tournament_size, elite_size, elite = False):\n",
        "  # TODO How we compare those values\n",
        "  population = sorted(population)\n",
        "  if elite == True:\n",
        "    if elite_size > selection_size:\n",
        "      selection = population[0:selection_size]\n",
        "      return selection\n",
        "    else:\n",
        "      selection = population[0:elite_size]\n",
        "\n",
        "  for i in range(selection_size - elite_size):\n",
        "    tournament = random.choices(population, tournament_size)\n",
        "    # TODO How we compare those values\n",
        "    selection.append(max(tournament))\n",
        "\n",
        "  return selection"
      ],
      "execution_count": 13,
      "outputs": []
    },
    {
      "cell_type": "code",
      "metadata": {
        "id": "NLyhYZLFj4vX"
      },
      "source": [
        "def is_end(pieces):\n",
        "  for i in range(len(pieces)):\n",
        "    if (pieces[i])[1] != (i):\n",
        "      return False\n",
        "\n",
        "  return True"
      ],
      "execution_count": 14,
      "outputs": []
    },
    {
      "cell_type": "code",
      "metadata": {
        "id": "I9ltdr5TTata"
      },
      "source": [
        "def GA():\n",
        "\n",
        "  population = init_pop()\n",
        "  global_best = None\n",
        "\n",
        "  for i in range(self.max_iteration):\n",
        "    selected = selection(population, selection_size, tournament_size, elite_size, elite)\n",
        "    population = cross(selected)\n",
        "    population = mutation(selected)\n",
        "\n",
        "    best = max(population)\n",
        "    print(best)\n",
        "    if best > global_best:\n",
        "      global_best = best\n",
        "\n",
        "    if (is_end(best)):\n",
        "      break\n",
        "\n",
        "  return global_best"
      ],
      "execution_count": 15,
      "outputs": []
    }
  ]
}